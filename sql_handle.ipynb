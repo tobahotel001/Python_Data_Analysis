{
 "cells": [
  {
   "cell_type": "code",
   "execution_count": 3,
   "id": "a256adfc-8b89-4454-9b9e-ad07311cf401",
   "metadata": {},
   "outputs": [
    {
     "name": "stdout",
     "output_type": "stream",
     "text": [
      "connected\n"
     ]
    }
   ],
   "source": [
    "# サードパーティライブラリのインポート\n",
    "import pandas as pd\n",
    "import pymysql\n",
    "\n",
    "# MySQL接続モジュール\n",
    "def mysql_connection(host=\"localhost\", port=3306, user=\"root\", password=\"\", database=None, autocommit=True):\n",
    "    \"\"\"MySQLに接続し、接続オブジェクトを返す\"\"\"\n",
    "    try:\n",
    "        conn = pymysql.connect(\n",
    "            host=host,\n",
    "            port=port,\n",
    "            user=user,\n",
    "            password=password,\n",
    "            database=database,\n",
    "            autocommit=autocommit\n",
    "        )\n",
    "    except Exception as e:\n",
    "        print(\"接続に失敗しました\", e)\n",
    "        return None\n",
    "        \n",
    "    return conn\n",
    "\n",
    "def create_database(conn, db_name):\n",
    "    \"\"\"データベースを作成（日本語や絵文字をサポート）\"\"\"\n",
    "    cursor = conn.cursor()\n",
    "    cursor.execute(\n",
    "        f\"CREATE DATABASE IF NOT EXISTS `{db_name}` CHARACTER SET utf8mb4 COLLATE utf8mb4_unicode_ci\"\n",
    "    )\n",
    "\n",
    "def use_database(conn, db_name):\n",
    "    \"\"\"使用するデータベースを選択\"\"\"\n",
    "    conn.select_db(db_name)\n",
    "\n",
    "def create_sales_table(conn):\n",
    "    \"\"\"sales_dataテーブルを作成\"\"\"\n",
    "    cursor = conn.cursor()\n",
    "    cursor.execute(\"DROP TABLE IF EXISTS sales_data\")\n",
    "    cursor.execute(\"\"\"\n",
    "        CREATE TABLE IF NOT EXISTS sales_data(\n",
    "            date DATE,\n",
    "            order_id VARCHAR(20),\n",
    "            money FLOAT,\n",
    "            province VARCHAR(20)\n",
    "        )\n",
    "    \"\"\")\n",
    "\n",
    "def insert_data(conn, df):\n",
    "    \"\"\"sales_dataテーブルにDataFrameのデータを挿入\"\"\"\n",
    "    cursor = conn.cursor()\n",
    "    insert_sql = \"INSERT INTO sales_data(date, order_id, money, province) VALUES(%s, %s, %s, %s)\"\n",
    "    data_tuples = [tuple(row) for row in df.values]\n",
    "    cursor.executemany(insert_sql, data_tuples)\n",
    "\n",
    "def read_sales_data(conn):\n",
    "    \"\"\"sales_dataテーブルから全データを取得し、DataFrameに変換\"\"\"\n",
    "    cursor = conn.cursor()\n",
    "    cursor.execute(\"SELECT * FROM sales_data\")\n",
    "    result = cursor.fetchall()\n",
    "    columns = [desc[0] for desc in cursor.description]\n",
    "    df = pd.DataFrame(result, columns=columns)\n",
    "    return df\n",
    "\n",
    "if __name__ == \"__main__\":\n",
    "    # パスワードはご自身で設定してください\n",
    "    mysql_connection(password=\"ここにパスワードを設定\")\n"
   ]
  },
  {
   "cell_type": "code",
   "execution_count": null,
   "id": "49bb646c-6987-4777-9207-5c169165b291",
   "metadata": {},
   "outputs": [],
   "source": []
  }
 ],
 "metadata": {
  "kernelspec": {
   "display_name": "Python 3 (ipykernel)",
   "language": "python",
   "name": "python3"
  },
  "language_info": {
   "codemirror_mode": {
    "name": "ipython",
    "version": 3
   },
   "file_extension": ".py",
   "mimetype": "text/x-python",
   "name": "python",
   "nbconvert_exporter": "python",
   "pygments_lexer": "ipython3",
   "version": "3.11.11"
  }
 },
 "nbformat": 4,
 "nbformat_minor": 5
}
