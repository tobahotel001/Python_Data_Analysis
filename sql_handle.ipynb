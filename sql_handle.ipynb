{
 "cells": [
  {
   "cell_type": "code",
   "execution_count": 3,
   "id": "a256adfc-8b89-4454-9b9e-ad07311cf401",
   "metadata": {},
   "outputs": [
    {
     "name": "stdout",
     "output_type": "stream",
     "text": [
      "connected\n"
     ]
    }
   ],
   "source": [
    "# 导入第三方库\n",
    "import pandas as pd\n",
    "import pymysql\n",
    "\n",
    "# 连接MySQL模块\n",
    "def mysql_connection(host = \"localhost\", port= 3306, user= \"root\", password = \"\", database = None, autocommit = True):\n",
    "    \"\"\"连接到MySQL，并返回连接对象\"\"\"\n",
    "    try:\n",
    "        conn = pymysql.connect(host = host, port = port,user = user,password = password,database = database,autocommit = autocommit)\n",
    "\n",
    "    except Exception as e:\n",
    "        print(\"bad connnection\", e)\n",
    "        return None\n",
    "        \n",
    "    return conn\n",
    "\n",
    "def create_database(conn, db_name):\n",
    "    \"\"\"创建数据库，支持中文和表情符号\"\"\"\n",
    "    cursor = conn.cursor()\n",
    "    cursor.execute(\n",
    "        f\"CREATE DATABASE IF NOT EXISTS `{db_name}` CHARACTER SET utf8mb4 COLLATE utf8mb4_unicode_ci\" \n",
    "    )\n",
    "\n",
    "def use_database(conn, db_name):\n",
    "    \"\"\"选择需要使用的数据库\"\"\"\n",
    "    conn.select_db(db_name)\n",
    "\n",
    "def create_sales_table(conn):\n",
    "    \"\"\"创建sales_data表\"\"\"\n",
    "    cursor = conn.cursor()\n",
    "    cursor.execute(\"DROP TABLE IF EXISTS sales_data\" )\n",
    "    cursor.execute(\"\"\"\n",
    "        CREATE TABLE IF NOT EXISTS sales_data(\n",
    "        date DATE,\n",
    "        order_id VARCHAR(20),\n",
    "        money float,\n",
    "        province VARCHAR(20)\n",
    "        )\n",
    "    \"\"\")\n",
    "\n",
    "def insert_data(conn, df):\n",
    "    \"\"\"向sales_data表里面插入df数据\"\"\"\n",
    "    cursor = conn.cursor()\n",
    "    insert_sql = \"INSERT INTO sales_data(date, order_id, money, province) VALUES(%s, %s, %s, %s)\"\n",
    "    data_tuples = [tuple(row) for row in df.values]\n",
    "    cursor.executemany(insert_sql, data_tuples)\n",
    "\n",
    "def read_sales_data(conn):\n",
    "    cursor = conn.cursor()\n",
    "    cursor.execute(\"SELECT * FROM sales_data\")\n",
    "    result = cursor.fetchall()\n",
    "    columns = [desc[0] for desc in cursor.description]\n",
    "    df = pd.DataFrame(result, columns = columns)\n",
    "    return df\n",
    "\n",
    "if __name__ ==\"__main__\":\n",
    "    mysql_connection(password = \"19720924\")\n"
   ]
  },
  {
   "cell_type": "code",
   "execution_count": null,
   "id": "49bb646c-6987-4777-9207-5c169165b291",
   "metadata": {},
   "outputs": [],
   "source": []
  }
 ],
 "metadata": {
  "kernelspec": {
   "display_name": "Python 3 (ipykernel)",
   "language": "python",
   "name": "python3"
  },
  "language_info": {
   "codemirror_mode": {
    "name": "ipython",
    "version": 3
   },
   "file_extension": ".py",
   "mimetype": "text/x-python",
   "name": "python",
   "nbconvert_exporter": "python",
   "pygments_lexer": "ipython3",
   "version": "3.11.11"
  }
 },
 "nbformat": 4,
 "nbformat_minor": 5
}
