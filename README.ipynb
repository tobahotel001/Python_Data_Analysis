{
 "cells": [
  {
   "cell_type": "markdown",
   "id": "e9cfd011-23c4-45fe-80af-8d2939a653eb",
   "metadata": {},
   "source": [
    "# 销售数据分析与可视化项目（2025年1-2月）\n",
    "本项目基于 Jupyter Notebook，针对2025年1月和2月的销售数据（TXT 和 JSON 格式）进行数据读取、处理、汇总，并绘制每日销售额柱状图。\n",
    "\n",
    "开发流程：\n",
    "1. 模块化：各个功能封装为函数\n",
    "2. 功能分类\n",
    "   main：利用模块控制数据流，生成可视化图形（读取外部数据、写入数据库、从数据库读取数据、图形化数据）\n",
    "   sql_handle：对MySQL数据库进行控制（连接MySQL、增加数据库和表、插入数据、读取数据模块）\n",
    "   file_define：对外部数据的读取和清洗（数据读取、数据清洗模块）\n",
    "   data_viz:实现了数据可视化的模块功能\n",
    "   \n",
    "\n",
    "\n",
    "项目结构\n",
    "\n",
    "pandas&mysql/nodb_ver/\n",
    "├── data_viz.ipynb\n",
    "├── data_viz.py\n",
    "├── file_define.ipynb\n",
    "├── file_define.py\n",
    "├── main.ipynb\n",
    "├── README.ipynb\n",
    "├── sql_handle.ipynb\n",
    "└── sql_handle.py\n",
    "└── data\n",
    "    ├── february_sales.json\n",
    "    └── january_sales.txt\n",
    "安装依赖\n",
    "建议使用虚拟环境：\n",
    "\n",
    "pip install -r requirements.txt\n",
    "依赖主要包括：\n",
    "\n",
    "pandas\n",
    "matplotlib\n",
    "pyecharts\n",
    "使用说明\n",
    "克隆项目到本地：\n",
    "git clone <你的仓库地址>\n",
    "cd quant_project\n",
    "启动 Jupyter Notebook：\n",
    "jupyter notebook\n",
    "打开 notebook/sales_analysis.ipynb，运行代码进行数据分析和可视化。\n",
    "功能描述\n",
    "读取 TXT 和 JSON 格式的销售数据\n",
    "汇总每日销售额\n",
    "绘制每日销售额柱状图\n",
    "联系方式\n",
    "如有问题，欢迎联系：[你的邮箱或GitHub链接]\n",
    "\n",
    "\n",
    "---\n"
   ]
  }
 ],
 "metadata": {
  "kernelspec": {
   "display_name": "Python 3 (ipykernel)",
   "language": "python",
   "name": "python3"
  },
  "language_info": {
   "codemirror_mode": {
    "name": "ipython",
    "version": 3
   },
   "file_extension": ".py",
   "mimetype": "text/x-python",
   "name": "python",
   "nbconvert_exporter": "python",
   "pygments_lexer": "ipython3",
   "version": "3.11.11"
  }
 },
 "nbformat": 4,
 "nbformat_minor": 5
}
