{
 "cells": [
  {
   "cell_type": "code",
   "execution_count": null,
   "id": "e57de197-11d9-4dc8-88dc-0d21cf1e73e8",
   "metadata": {},
   "outputs": [],
   "source": [
    "# 模块化可视功能\n",
    "import matplotlib.pyplot as plt\n",
    "import pandas as pd\n",
    "\n",
    "def plot_sales_by_day(df):\n",
    "    grouped = df.groupby(\"date\")[\"money\"].sum().sort_index()\n",
    "\n",
    "    plt.figure(figsize = (10, 6))\n",
    "    grouped.plot(kind = \"bar\", color = \"skyblue\")\n",
    "    plt.title(\"Daily Sales\")\n",
    "    plt.xlabel(\"DATE\")\n",
    "    plt.ylabel(\"SALES\")\n",
    "    plt.tight_layout()\n",
    "    plt.show()"
   ]
  }
 ],
 "metadata": {
  "kernelspec": {
   "display_name": "Python [conda env:base] *",
   "language": "python",
   "name": "conda-base-py"
  },
  "language_info": {
   "codemirror_mode": {
    "name": "ipython",
    "version": 3
   },
   "file_extension": ".py",
   "mimetype": "text/x-python",
   "name": "python",
   "nbconvert_exporter": "python",
   "pygments_lexer": "ipython3",
   "version": "3.12.7"
  }
 },
 "nbformat": 4,
 "nbformat_minor": 5
}
